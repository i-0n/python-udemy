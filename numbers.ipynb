{
 "metadata": {
  "language_info": {
   "codemirror_mode": {
    "name": "ipython",
    "version": 3
   },
   "file_extension": ".py",
   "mimetype": "text/x-python",
   "name": "python",
   "nbconvert_exporter": "python",
   "pygments_lexer": "ipython3",
   "version": "3.8.5-final"
  },
  "orig_nbformat": 2,
  "kernelspec": {
   "name": "python3",
   "display_name": "Python 3"
  }
 },
 "nbformat": 4,
 "nbformat_minor": 2,
 "cells": [
  {
   "source": [
    "program in python is a text file with physical lines of code\n",
    "physical line of code ends with a physical newline character\n",
    "logical line of code ends up with a NEWLINE TOKEN\n",
    "sometimes, physical newlines are ignored in order to combine multiple physical lines into a single logical line of code terminated by a logical NEWLINE token\n",
    "conversion can be explicit or implicit\n",
    "implicit:<br> \n",
    " list literals []<br>\n",
    " tuple literals ()<br>\n",
    " dictionary literals {}<br> \n",
    " set literals {}<br>\n",
    " function arguments/parameters<br>\n",
    "Supports inline comments<br>\n",
    "One can break up statements over multiple lines explicitly by using the \\ (backslash) character<br>\n",
    "Multi-line statements are not explicitly converted to a single logical line<br>\n",
    "Comments cannot be part of a statement, not even a multi-line statement"
   ],
   "cell_type": "markdown",
   "metadata": {}
  },
  {
   "cell_type": "code",
   "execution_count": null,
   "metadata": {},
   "outputs": [],
   "source": []
  }
 ]
}